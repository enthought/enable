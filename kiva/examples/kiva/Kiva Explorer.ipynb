{
 "cells": [
  {
   "cell_type": "markdown",
   "metadata": {},
   "source": [
    "# Kiva API Explorer\n",
    "\n",
    "This notebook allows you to experiment with the K"
   ]
  },
  {
   "cell_type": "code",
   "execution_count": null,
   "metadata": {},
   "outputs": [],
   "source": [
    "from math import pi\n",
    "from kiva import constants\n",
    "from kiva.fonttools import Font"
   ]
  },
  {
   "cell_type": "code",
   "execution_count": null,
   "metadata": {},
   "outputs": [],
   "source": [
    "from kiva.celiagg import GraphicsContext\n",
    "\n",
    "gc = GraphicsContext((500, 500), pix_format='rgba32')\n",
    "\n",
    "with gc:\n",
    "    gc.set_fill_color((1.0, 1.0, 0.0, 1.0))\n",
    "    gc.arc(200, 200, 100, 0, 2*pi)\n",
    "    gc.fill_path()\n",
    "\n",
    "    with gc:\n",
    "        gc.set_font(Font('Times New Roman', size=24))\n",
    "        gc.translate_ctm(200, 200)\n",
    "        for i in range(0, 12):\n",
    "            gc.set_fill_color((i/12.0, 0.0, 1.0-(i/12.0), 0.75))\n",
    "            gc.rotate_ctm(2*pi/12.0)\n",
    "            gc.show_text_at_point(\"Hello World\", 20, 0)\n",
    "\n",
    "    gc.set_stroke_color((0.0, 0.0, 1.0, 1.0))\n",
    "    gc.set_line_width(7)\n",
    "    gc.set_line_join(constants.JOIN_ROUND)\n",
    "    gc.set_line_cap(constants.CAP_ROUND)\n",
    "    gc.rect(100, 400, 50, 50)\n",
    "    gc.stroke_path()\n",
    "\n",
    "gc"
   ]
  },
  {
   "cell_type": "code",
   "execution_count": null,
   "metadata": {},
   "outputs": [],
   "source": []
  }
 ],
 "metadata": {
  "kernelspec": {
   "display_name": "Python 3",
   "language": "python",
   "name": "python3"
  },
  "language_info": {
   "codemirror_mode": {
    "name": "ipython",
    "version": 3
   },
   "file_extension": ".py",
   "mimetype": "text/x-python",
   "name": "python",
   "nbconvert_exporter": "python",
   "pygments_lexer": "ipython3",
   "version": "3.6.12"
  }
 },
 "nbformat": 4,
 "nbformat_minor": 2
}
